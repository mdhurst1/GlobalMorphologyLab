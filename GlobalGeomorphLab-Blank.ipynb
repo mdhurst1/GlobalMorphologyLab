{
 "cells": [
  {
   "cell_type": "markdown",
   "id": "8d669fea",
   "metadata": {},
   "source": [
    "# Whole Earth Morphology and Isostasy Lab\n",
    "\n",
    "In this lab we will start to explore some stuff about Tectonic Geomorphology. In particular it is important to get used to calculating distances, rates, forces, and other relevant things that we can quantify from remote sensing data, topographic data or other sources of landscape information.\n",
    "\n",
    "The model is written in the Python computer programming language, but you don't need any prior knowledge of computer programming. The intended learning outcomes of this lab are:\n",
    "* Learn how to make basic calculations that help us understand the changing morphology of the Earth\n",
    "* Be able to manage and work out units of measurement for calculations of rates, forces, pressures etc\n",
    "* Be able to explain why the Earth's overall shape is an oblate spheroid\n",
    "* Understand the principle of isostasy as it applies to the Earth's crust and mantle\n",
    "* To quantify the effects of denudation on isostasy and uplift in mountain ranges\n",
    "\n",
    "### Interactive Notebooks\n",
    "This page is called an **interactive notebook**. It allows us to build a document with descriptive text, equations, and images etc. while also having the ability to do some calculations as we go along. It's a bit like embedding some Microsoft Excel calculations into a Microsoft Word document! Thus you will find (and use) blocks of computer code (the formula bar in Excel is a simple form of computer programming!). In this case the computer code we will use is a particular programming language called Python. Below is an example block of code that prints a sequence of characters (often called a \"string\") onto the screen."
   ]
  },
  {
   "cell_type": "code",
   "execution_count": 1,
   "id": "f007a795",
   "metadata": {},
   "outputs": [
    {
     "name": "stdout",
     "output_type": "stream",
     "text": [
      "Hello World!\n"
     ]
    }
   ],
   "source": [
    "# this is a comment, as indicated by the \"#\" symbol. The line below is the actual computer code:\n",
    "print(\"Hello World!\")"
   ]
  },
  {
   "cell_type": "markdown",
   "id": "28e7d76b",
   "metadata": {},
   "source": [
    "### Python\n",
    "No prior knowledge of programming is required for this lab. Learning how to be a programmer is not the aim either! However, this sort of scientific computing is becoming more common place in research and consultancy, so it will serve you well to see it in action, and have a go. Python is multifunctional, for example it can interface with QGIS (software we will use in future labs) to automate workflows. This exercise is intended to give you an introduction to the Python software environment and how we can do some simple calculations. We will return to this software environment in future weeks (including for one of your assessments).\n",
    "\n",
    "This notebook file is split into blocks of text and blocks of code. **To run a code block, click in a cell, hold down shift, and press enter.** An asterisk in square brackets `In [*]:` will appear while the code is being executed, and this will change to a number `In [1]:` when the code is finished. \n",
    "\n",
    "<div class=\"alert alert-block alert-info\">\n",
    "<font color=\"black\">\n",
    "<h3>TASKS WILL APPEAR IN BLUE BOXES</h3>\n",
    "    <p> Modify the text in the string above to say Hello to yourself, e.g., <code>print(\"Hello Martin\")</code> and then rerun that block of code by clicking on it to highlight, and then pressing SHIFT+ENTER.\n",
    "</p>\n",
    "</font>\n",
    "</div>\n",
    "\n",
    "*The order in which you execute the code blocks matters, they usually must be run in sequence down the page. i.e. any block of code is usually dependent on the blocks above them on the page*. This can result in errors, so if you run into any errors just ask me, or click the \"Kernel\" menu at the of the page and then \"Restart & Clear Output\" and then run everything again from the top. \n",
    "\n",
    "Inside blocks of python code there are comments indicated by lines that start with `#`. These lines are not computer code but rather comments providing information about what the code is doing to help you follow along. "
   ]
  },
  {
   "cell_type": "markdown",
   "id": "3ee8b859",
   "metadata": {},
   "source": [
    "## Exercise 1: Overall shape of the Earth\n",
    "We have explained in the lecture that the Earth is an oblate spheroid in shape (not quite a sphere) due to the centrifugal force of the planet spinning. Let's do some calculations to explore that. Borrowing from physics, we can state that an object at the Earth surface is acted upon by three forces, a gravitational force $F_g$; a \"normal\" force $F_N$ from the ground pushing the object up , and, at the equator, a centrifugual force $F_{cf}$ [all in units of Newtons]. We are going to ignore $F_N$ since for our calculations it is so small it can be considered negligble. \n",
    "\n",
    "Let start with centrifugal force ($F_{cf}$), which is a function of:\n",
    "* the mass of the object $m$ [in units of kg], \n",
    "* the angular rotational velocity of Earth $\\omega$, the greek letter omega; [in units of \"per second\"; or 1/s, which can also be written as s$^{-1}$]; and \n",
    "* the radius of the Earth $R$; note that this is typically reported in [units of km], but we need to be consistent and so will have to convert to [metres m]).\n",
    "\n",
    "$$\n",
    "\\begin{equation}\n",
    "F_{cf} = m \\: \\omega^2 \\: R \\tag{1}\n",
    "\\end{equation}\n",
    "$$\n",
    "\n",
    "Note that when symbols appear directly next to each other in an equation, it means that we will multiply them together (but it is mathematical convention to omit the $\\times$ symbol. So this equation could also be written:\n",
    "$$\n",
    "\\begin{equation}\n",
    "F_{cf} = m \\times \\omega^2 \\times R \\tag{2}\n",
    "\\end{equation}\n",
    "$$\n",
    "\n",
    "The equatorial radius of the Earth is 6378 km. Let's consider an object weighing 1 kg (e.g. a litre bottle of water, or a bag of sugar). The angular velocity of the Earth is 0.0000729 s$^{−1}$. This is an annoying number of zeros to write out, so scientists often also write this as 7.29 $\\times$ 10$^{−5}$ s$^{−1}$ (this is called scientific notation). \n",
    "\n",
    "<div class=\"alert alert-block alert-info\">\n",
    "<font color=\"black\">\n",
    "    <p> Observe the calculation in the box below in which we create a variable called <code>omega</code> and calculate it as 7.29 $\\times$ 10$^{-5}$. Pay attention to how the calculation is written in code, as you will be applying this to another equation shortly:\n",
    "</p>\n",
    "</font>\n",
    "</div>"
   ]
  },
  {
   "cell_type": "code",
   "execution_count": 2,
   "id": "22293c8e",
   "metadata": {},
   "outputs": [
    {
     "name": "stdout",
     "output_type": "stream",
     "text": [
      "7.290000000000001e-05\n",
      "0.000073\n"
     ]
    }
   ],
   "source": [
    "# testing scientific number notation for omega\n",
    "# we use a * symbol for times and ** for raising a number to a power\n",
    "\n",
    "# CALCULATION FOR OMEGA BELOW\n",
    "omega = 7.29 * 10 ** -5\n",
    "\n",
    "# the commands below print the result in both scientific and explicit notation\n",
    "print(omega)\n",
    "print('%f' % omega)"
   ]
  },
  {
   "cell_type": "markdown",
   "id": "385d53af",
   "metadata": {},
   "source": [
    "Now that we have understood scientific notation and how we can make a calculation in Python, let's go ahead and calculate $F_{cf}$. The computer will remember the variable you created called `omega` and what the number is associated with it. \n",
    "\n",
    "<div class=\"alert alert-block alert-info\">\n",
    "<font color=\"black\">\n",
    "    <p> Calculate centrifugal force $F_{cs}$\n",
    "    <ol>\n",
    "    <li>Define the other variables you need and assign them values\n",
    "    <li>Check that you have used consistent units (metres, kilograms, seconds)\n",
    "    <li>Complete the equation based on equation 2 above\n",
    "    <li>Work out what the units should be (might need pen and paper for this, more help below).\n",
    "</ol>\n",
    "</p>\n",
    "</font>\n",
    "</div>\n",
    "\n",
    "<div class=\"alert alert-warning\">\n",
    "<b>HINT</b> There are 1000 m in 1 km, so to convert from km to m you multiply by 1000. If you wanted to go the other way from m to km, you would divide your value by 1000.\n",
    "</div>"
   ]
  },
  {
   "cell_type": "code",
   "execution_count": 5,
   "id": "92e48caa",
   "metadata": {},
   "outputs": [
    {
     "name": "stdout",
     "output_type": "stream",
     "text": [
      "0.033895306980000005\n"
     ]
    }
   ],
   "source": [
    "# Define other variables\n",
    "# note that we tend to put a decimal after the number \n",
    "# to tell the computer that we are using number that could contain decimals \n",
    "# (these are called floating point numbers, as opposed to integers which have to be whole numbers)\n",
    "Mass = 1.\n",
    "Radius = 6378000\n",
    "\n",
    "# Complete the equation (delete the \"...\")\n",
    "F_cf = Mass * ...\n",
    "print(F_cf, \"units\")"
   ]
  },
  {
   "cell_type": "markdown",
   "id": "cdc6960b",
   "metadata": {},
   "source": [
    "To work out the units of F_cf we just multiply together all the units on the right hand side of the equation. Once you have done this, we can put the answer in a `string` variable (remember from earlier, a sequence of characters, I think of it as text). If we need to use subscripts and superscripts we have to use `^` or `_` respectively, and put the stuff inside dollar signs $ so that the computer knows we ant mathematical notation. \n",
    "\n",
    "<div class=\"alert alert-block alert-info\">\n",
    "<font color=\"black\">\n",
    "    <p> Modify the example below to display the correct units for $F_{cf}$:\n",
    "</p>\n",
    "</font>\n",
    "</div>\n"
   ]
  },
  {
   "cell_type": "code",
   "execution_count": null,
   "id": "07c92d73",
   "metadata": {},
   "outputs": [],
   "source": [
    "Units = \"kg m s$^{-2}$\"\n",
    "print(Units)"
   ]
  },
  {
   "cell_type": "markdown",
   "id": "1299db88",
   "metadata": {},
   "source": [
    "Yuck! Python can't actually deal with scientific notation (not without us doing some more complicated stuff). But if you **double click in the text box** you can cut and paste your answer then run this block of markdown text to make it look pretty:\n",
    "\n",
    "**My units are:** PASTE UNITS HERE\n",
    "(otherwise known as ???)"
   ]
  },
  {
   "cell_type": "markdown",
   "id": "6627386e",
   "metadata": {},
   "source": [
    "Next we need to calculate the gravitational force $F_g$ attracting the object towards the Earth. To do this we need to know a couple more variables, the values of which are also below:\n",
    "* The mass of the Earth $M_E$ [kg] is 5.97 $\\times 10^{24}$ kg (Wow, Earth has a lot of mass!)\n",
    "* The gravitational constant $G$ 6.67 $\\times 10^{-11}$ N m$^2$ kg$^{-2}$ (Shucks, that's a lot of units to deal with!)\n",
    "\n",
    "Remember, 1 Newton N is 1 kg m s$^{-2}$ (look familiar?!).\n",
    "\n",
    "The equation for the force on the object due to gravity can be calculated as:\n",
    "\n",
    "$$\n",
    "\\begin{equation}\n",
    "F_{g} = {{G \\: m \\: M_E}\\over{R^2}} \\tag{2}\n",
    "\\end{equation}\n",
    "$$\n",
    "\n",
    "So let's define these extra variables and evaluate equation 3.\n",
    "\n",
    "<div class=\"alert alert-block alert-info\">\n",
    "<font color=\"black\">\n",
    "    <p> Calculate gravitational force $F_{g}$\n",
    "    <ol>\n",
    "    <li>Define the other variables you need and assign them values\n",
    "    <li>Check that you have used consistent units (metres, kilograms, seconds)\n",
    "    <li>Complete the equation based on equation 3 above\n",
    "    <li>Work out what the units should be (might need pen and paper for this)\n",
    "</ol>\n",
    "</p>\n",
    "</font>\n",
    "</div>\n"
   ]
  },
  {
   "cell_type": "code",
   "execution_count": 20,
   "id": "d72cfa1f",
   "metadata": {},
   "outputs": [
    {
     "name": "stdout",
     "output_type": "stream",
     "text": [
      "9.788837864873578\n"
     ]
    }
   ],
   "source": [
    "# define extra variables here, will need scientific notation for very big and very small numbers\n",
    "Mass = 1.\n",
    "GravConst = 6.67 * 10 ** - 11\n",
    "MassEarth = 5.97 * 10 ** 24\n",
    "\n",
    "# complete the equation below\n",
    "#note we need to use brackets to seperate out the top and bottom of the equation for the division. \n",
    "# We use a forward slash / for divide\n",
    "F_g = ...\n",
    "print(F_g)"
   ]
  },
  {
   "cell_type": "markdown",
   "id": "bc13a03d",
   "metadata": {},
   "source": [
    "The last step in our shape of the Earth exercise is to calculate the ratio of the two forces (how big is the centrifugal forces as a fraction of the gravitational force?). If $F_{cf}$ was greater than (>) $F_g$ our object would fly off into space! \n",
    "<div class=\"alert alert-block alert-info\">\n",
    "<font color=\"black\">\n",
    "    <p> Calculate the ratio of the two forces $F_{cf}$ / $F_g$ and then multiply by the radius of the Earth to see if centrifugal force predicts a different value at the equator compared to the poles, where there is no centrifugal force.\n",
    "</p>\n",
    "</font>\n",
    "</div>"
   ]
  },
  {
   "cell_type": "code",
   "execution_count": 22,
   "id": "050bf420",
   "metadata": {},
   "outputs": [
    {
     "name": "stdout",
     "output_type": "stream",
     "text": [
      "The difference in Earth radius between the poles and equator is expected to be 22.084773586270043 km\n"
     ]
    }
   ],
   "source": [
    "# Calculate the ratio here:\n",
    "F_ratio = ...\n",
    "# Calculate the difference to the poles here\n",
    "Radius_diff = ...\n",
    "print(\"The difference in Earth radius between the poles and equator is expected to be\", Radius_diff, \"km\")"
   ]
  },
  {
   "cell_type": "markdown",
   "id": "8eea152f",
   "metadata": {},
   "source": [
    "## Exercise 2: Hypsometry of the Earth and Isostasy\n",
    "\n",
    "Broadly speaking there are two types of crust, continental crust and oceanic crust. Continental crust tends to be thicker (~40 km, but can be much thicker in mountain belts) and oceanic crust thinner, but denser. When looking at the distribution of topography across the Earth Surface (including below sea level) we observe that it is bimodal, that is there are two bands of the most common elevations, relative to sea level, as can be seen in the plot below that was also shown in the lecture:\n",
    "<img src=\"images/hypsometry.png\" width=\"600\">\n",
    "\n",
    "We can start to understand why by using the principle of isostasy (derives from ancient greek isos stásis: \"same standing\"). Isostasy is the state of gravitational equilibrium within the Earth, such that at any given distance from the centre of the Earth, downward forces (pressure) tend to be the same. Any deviations in pressure will result in the ductile movement of mantle to re-equilibrate pressure (material moves laterally from high pressure areas to lower pressure areas).\n",
    "\n",
    "In order to understand this better, and draw the link to the configuration of continental and oceanic crust in order to explain hypsometry, let's consider the following simplified diagram:\n",
    "<img src=\"images/isostasy1.png\" width=\"600\">\n",
    "\n",
    "Isostasy tells us that the pressure at $P_1$ underneath a continent should be the same as the pressure at $P_2$ underneath an ocean (with these two points being the same distance from the centre of the planet). Pressure is the force per metre squared (i.e. acting on a 1\\times1 m plane) exerted by the weight of overlying material acting down towards the centre of the Earth. Thus it is a function of the thickness $H$ [m] and density $\\rho$ [kg m"
   ]
  },
  {
   "cell_type": "markdown",
   "id": "de358752",
   "metadata": {},
   "source": [
    "## Exercise 2: Hypsometry of the Earth and Isostasy\n",
    "\n",
    "Broadly speaking there are two types of crust, continental crust and oceanic crust. Continental crust tends to be thicker (~40 km, but can be much thicker in mountain belts) and oceanic crust thinner, but denser. When looking at the distribution of topography across the Earth Surface (including below sea level) we observe that it is bimodal, that is there are two bands of the most common elevations, relative to sea level, as can be seen in the plot below that was also shown in the lecture:\n",
    "<img src=\"images/hypsometry.png\" width=\"600\">\n",
    "\n",
    "We can start to understand why by using the principle of isostasy (derives from ancient greek isos stásis: \"same standing\"). Isostasy is the state of gravitational equilibrium within the Earth, such that at any given distance from the centre of the Earth, downward forces (pressure) tend to be the same. Any deviations in pressure will result in the ductile movement of mantle to re-equilibrate pressure (material moves laterally from high pressure areas to lower pressure areas).\n",
    "\n",
    "In order to understand this better, and draw the link to the configuration of continental and oceanic crust in order to explain hypsometry, let's consider the following simplified diagram:\n",
    "\n",
    "<img src=\"images/isostasy1.png\" width=\"600\">\n",
    "\n",
    "Isostasy tells us that the pressure at $P_1$ underneath a continent should be the same as the pressure at $P_2$ underneath an ocean (with these two points being the same distance from the centre of the planet). Pressure is the force per metre squared (i.e. acting on a 1$\\times$1 m plane) exerted by the weight of overlying material acting down towards the centre of the Earth. Thus it is a function of the thickness $H$ [m] and density $\\rho$ [kg m$^{-1}$] of a 1$\\times$1 m column of the overlying material:\n",
    "\n",
    "$$\n",
    "\\begin{equation}\n",
    "P = \\rho \\: g \\:H \\tag{4}\n",
    "\\end{equation}\n",
    "$$\n",
    "\n",
    "Note that the greek letter \"rho\" (pronounced like \"row\") is commonly used to denote density.\n",
    "\n",
    "<div class=\"alert alert-block alert-info\">\n",
    "<font color=\"black\">\n",
    "    <p> Confirm that the units for pressure are force per unit area (N/m$^2$) by multiplying out the units for equation 4.\n",
    "</p>\n",
    "</font>\n",
    "</div>\n",
    "\n",
    "For pressure under continental crust (which we will denote with the subscript \"c\"), equation 4 works well and becomes:\n",
    "\n",
    "$$\n",
    "\\begin{equation}\n",
    "P_1 = \\rho_c \\: g \\:H_c \\tag{5}\n",
    "\\end{equation}\n",
    "$$\n",
    "\n",
    "But for pressure under the oceans, its a bit more complicated, as we have different types of materials with different thicknesses and densities that we need to add together. There is the oceans themselves (subscript \"w\" for water), the oceanic crust (subscript \"o\") and some mantle to consider too (sub \"m\"). \n",
    "\n",
    "$$\n",
    "\\begin{equation}\n",
    "P_2 = \\rho_w \\: g \\:H_w \\: + \\: \\rho_o \\: g \\:H_o \\: + \\: \\rho_m \\: g \\:H_m\\tag{6}\n",
    "\\end{equation}\n",
    "$$\n",
    "\n",
    "If we know all the terms in these equations, and we assume that we are in a state of gravitational equilibrium (i.e. $P_1$ = $P_2$) then we can solve for how much higher the surface of the continents is compared to the oceans (this is sometimes called the continental freeboard). \n",
    "\n",
    "But what terms do we know? Here are some typical numbers:\n",
    "* Continental crust: thickness 25 km, density 2700 kg m$^{-3}$\n",
    "* Oceanic crust: thickness 5 km, density 3000 kg m$^{-3}$\n",
    "* Ocean water: depth 4 km, density 1027 kg m$^{-3}$\n",
    "* Mantle: thickness **???**, density 3300 kg m$^{-3}$\n",
    "\n",
    "<div class=\"alert alert-block alert-info\">\n",
    "<font color=\"black\">\n",
    "    <p> On pen and paper, write out setting the equation for $P_1$ equal to $P_2$ and try to rearrange the equation to solve for our unknown term, the thickness of mantle below oceanic crust $H_m$.\n",
    "</p>\n",
    "</font>\n",
    "</div>\n",
    "\n",
    "<div class=\"alert alert-warning\">\n",
    "<b>FLAG</b> I'm aware that there will be different levels of experience in relation to algebra, just do your best, ask for help, and we will go through it together during the class, and then I will post a completed version of this notebook with the answers.\n",
    "</div>\n",
    "\n",
    "OK now that you have your equation, we can actually use it to calculate $H_m$\n",
    "\n",
    "<div class=\"alert alert-block alert-info\">\n",
    "<font color=\"black\">\n",
    "    <p> OK now that you have your equation, we can actually use it to calculate $H_m$. Just like before, define the variables and then build up the equation in the code block below. Make sure you are consistent with units (m vs km!)\n",
    "</p>\n",
    "</font>\n",
    "</div>"
   ]
  },
  {
   "cell_type": "code",
   "execution_count": 55,
   "id": "c69fe031",
   "metadata": {},
   "outputs": [
    {
     "name": "stdout",
     "output_type": "stream",
     "text": [
      "14664.242424242424\n"
     ]
    }
   ],
   "source": [
    "# define variables (density and thickness of continental crust have been done for you)\n",
    "rho_c = 2700.\n",
    "H_c = 25000.\n",
    "rho_o = \n",
    "H_o = \n",
    "rho_w = \n",
    "H_w = \n",
    "rho_m = \n",
    "\n",
    "# complete the equation \n",
    "H_m = ...\n",
    "print(H_m, \"units\")"
   ]
  },
  {
   "cell_type": "markdown",
   "id": "4769eae9",
   "metadata": {},
   "source": [
    "<img src=\"images/isostasy2.png\" width=\"600\">\n",
    "\n",
    "Finally, we can calculate the continental freeboard, this is just the bit that's missing. So we can work it out as the thickness of the continental crust, minus the thicknesses of the ocean, oceanic crust and mantle combined:\n",
    "\n",
    "$$\n",
    "\\begin{equation}\n",
    "f = H_c - (H_w + H_o + H_m) \\tag{7}\n",
    "\\end{equation}\n",
    "$$\n",
    "\n",
    "<div class=\"alert alert-block alert-info\">\n",
    "<font color=\"black\">\n",
    "    <p> Calculate the expected elevation of the continents according to the principle of isostasy. Be sure to modify the \"units\" string to be the units that you have worked in (m or km). Think about and discuss how this relates to the global hypsometric curve above.\n",
    "</p>\n",
    "</font>\n",
    "</div>"
   ]
  },
  {
   "cell_type": "code",
   "execution_count": 56,
   "id": "38994e9f",
   "metadata": {},
   "outputs": [
    {
     "name": "stdout",
     "output_type": "stream",
     "text": [
      "The expected surface elevation of typical continental crust is 1335.757575757576 units\n"
     ]
    }
   ],
   "source": [
    "# equation goes here\n",
    "f = ...\n",
    "\n",
    "# print the results to screen\n",
    "print(\"The expected surface elevation of typical continental crust is\", f, \"units\")"
   ]
  },
  {
   "cell_type": "markdown",
   "id": "a75b87c7",
   "metadata": {},
   "source": [
    "## Exercise 3: Denudation and Isostasy\n",
    "Recall from our key concepts lecture that we defined denudation: the loss of mass from the Earth surface due to surface processes, acting to reduce the topography. Thus, denudation combines physical erosion and the loss of the residual products of chemical weathering transported in solution by water. In tectonically active regions, denudation tends to be dominated by physical erosion, but in warm and wet climates, and particularly in tectonically quiescient areas, chemical weathering may contribute substantially to denudation losses.\n",
    "\n",
    "In the introduction lecture, we very simply cast the change in elevation $z$ [m] of surface topography over time [t] as the result of the amount of uplift U [z] minus the amount of denudation [z]:\n",
    "\n",
    "$$\n",
    "\\begin{equation}\n",
    "{{dz}\\over{dt}} = U \\: - \\: E\n",
    "\\end{equation}\n",
    "$$\n",
    "\n",
    "Regardless, we can expect that the net result of denudation is that the thickness of the continental crust decreases. What does this mean for isostasy? The loss of mass from the continental crust will result in some sort of isostatic compensation in order to retain gravitational equilibrium.\n",
    "\n",
    "<img src=\"images/isostasy3.png\" width=\"800\">\n",
    "\n",
    "<div class=\"alert alert-block alert-info\">\n",
    "<font color=\"black\">\n",
    "    <p> Calculate how much isostatic uplift results from 1 km of denudation.\n",
    "        <ol>\n",
    "        <li> Write out the equations by setting $P_1$ = $P_3$ (see equations 4, 5, and 6 for a hint)\n",
    "        <li> Rearrange the resulting equation to solve for $H_{m3}$, which will be equal to the amount of isostatic uplift\n",
    "        <li> Check your solution and then calculate the amount of isostatic uplift below\n",
    "    </ol>\n",
    "    </p>\n",
    "</font>\n",
    "</div>\n",
    "\n",
    "<div class=\"alert alert-warning\">\n",
    "<b>N.B.</b> We haven't expressed the thickness of the continental crust here, but what is important is the difference, so you could assume $H_{c1}$ = 40 km, (like our previous value for $H_c$, and adjust $H_{c3}$ to make it 1 km less).\n",
    "</div>"
   ]
  },
  {
   "cell_type": "code",
   "execution_count": 59,
   "id": "3efdb8d5",
   "metadata": {},
   "outputs": [
    {
     "name": "stdout",
     "output_type": "stream",
     "text": [
      "The amount of isostatic uplift in response to 1 km of denudation is 0.8181818181818182 units\n"
     ]
    }
   ],
   "source": [
    "# define any new variables\n",
    "H_c1 = H_c\n",
    "H_c3 = ...\n",
    "\n",
    "# calculate isostatic uplift\n",
    "H_m3 = ...\n",
    "print(\"The amount of isostatic uplift in response to 1 km of denudation is\", H_m3, \"units\")"
   ]
  },
  {
   "cell_type": "markdown",
   "id": "1ada86d5",
   "metadata": {},
   "source": [
    "The calculations above consider the simple case that 1 km of material is eroded uniformly from the landscape. In reality, as we will learn in future lectures, denudation tends to be initially focused along water courses, resulting in cutting of river valleys bound by hillslopes, and an increase in landscape relief (a measure of the range of elevations within a specified area). Your final task is to consider how an uneven distribution of erosion might affect isostatic uplift, and what this means for the mountain range. Consider the diagram below:\n",
    "\n",
    "<img src=\"images/isostasy4.png\" width=\"800\">\n",
    "\n",
    "<div class=\"alert alert-block alert-info\">\n",
    "<font color=\"black\">\n",
    "    <p> Calculate how much isostatic uplift results from 1 km of denudation in river valleys.\n",
    "        <ol>\n",
    "        <li> Consider the **average** change in thickness of the continental crust\n",
    "        <li> Use your previously derived equation for $H_{m3}$\n",
    "        <li> Write a paragraph describing the effects on mountain topography, and the sustainability of this outcome.\n",
    "    </ol>\n",
    "    </p>\n",
    "</font>\n",
    "</div>"
   ]
  },
  {
   "cell_type": "code",
   "execution_count": null,
   "id": "c85594c0",
   "metadata": {},
   "outputs": [],
   "source": [
    "# calculate isostatic uplift\n",
    "..."
   ]
  },
  {
   "cell_type": "markdown",
   "id": "00bce901",
   "metadata": {},
   "source": [
    "Write your paragraph here"
   ]
  },
  {
   "cell_type": "markdown",
   "id": "f8a211ce",
   "metadata": {},
   "source": [
    "# SAVE YOUR WORK\n",
    "Once you have completed the lab, you can save your notebook in a variety of formats. To save it as an interactive notebook you need to download it as a .ipynb file. To get a static copy in a PDF, save as a .PDF file:\n",
    "Click **FILE** -> **DOWNLOAD AS** -> file type"
   ]
  }
 ],
 "metadata": {
  "kernelspec": {
   "display_name": "Python 3",
   "language": "python",
   "name": "python3"
  },
  "language_info": {
   "codemirror_mode": {
    "name": "ipython",
    "version": 3
   },
   "file_extension": ".py",
   "mimetype": "text/x-python",
   "name": "python",
   "nbconvert_exporter": "python",
   "pygments_lexer": "ipython3",
   "version": "3.8.8"
  }
 },
 "nbformat": 4,
 "nbformat_minor": 5
}
